{
  "cells": [
    {
      "cell_type": "code",
      "execution_count": 1,
      "metadata": {
        "collapsed": false
      },
      "outputs": [],
      "source": [
        "%matplotlib inline"
      ]
    },
    {
      "cell_type": "markdown",
      "metadata": {},
      "source": [
        "\n",
        "# Detect Objects Using Your Webcam\n"
      ]
    },
    {
      "cell_type": "markdown",
      "metadata": {},
      "source": [
        "This demo will take you through the steps of running an \"out-of-the-box\" detection model to\n",
        "detect objects in the video stream extracted from your camera.\n",
        "\n"
      ]
    },
    {
      "cell_type": "markdown",
      "metadata": {},
      "source": [
        "## Create the data directory\n",
        "The snippet shown below will create the ``data`` directory where all our data will be stored. The\n",
        "code will create a directory structure as shown bellow:\n",
        "\n",
        ".. code-block:: bash\n",
        "\n",
        "    data\n",
        "    └── models\n",
        "\n",
        "where the ``models`` folder will will contain the downloaded models.\n",
        "\n"
      ]
    },
    {
      "cell_type": "code",
      "execution_count": 2,
      "metadata": {
        "collapsed": false
      },
      "outputs": [],
      "source": [
        "import os\n",
        "\n",
        "DATA_DIR = os.path.join(os.getcwd(), 'data')\n",
        "MODELS_DIR = os.path.join(DATA_DIR, 'models')\n",
        "for dir in [DATA_DIR, MODELS_DIR]:\n",
        "    if not os.path.exists(dir):\n",
        "        os.mkdir(dir)"
      ]
    },
    {
      "cell_type": "markdown",
      "metadata": {},
      "source": [
        "## Download the model\n",
        "The code snippet shown below is used to download the object detection model checkpoint file,\n",
        "as well as the labels file (.pbtxt) which contains a list of strings used to add the correct\n",
        "label to each detection (e.g. person).\n",
        "\n",
        "The particular detection algorithm we will use is the `SSD ResNet101 V1 FPN 640x640`. More\n",
        "models can be found in the `TensorFlow 2 Detection Model Zoo <https://github.com/tensorflow/models/blob/master/research/object_detection/g3doc/tf2_detection_zoo.md>`_.\n",
        "To use a different model you will need the URL name of the specific model. This can be done as\n",
        "follows:\n",
        "\n",
        "1. Right click on the `Model name` of the model you would like to use;\n",
        "2. Click on `Copy link address` to copy the download link of the model;\n",
        "3. Paste the link in a text editor of your choice. You should observe a link similar to ``download.tensorflow.org/models/object_detection/tf2/YYYYYYYY/XXXXXXXXX.tar.gz``;\n",
        "4. Copy the ``XXXXXXXXX`` part of the link and use it to replace the value of the ``MODEL_NAME`` variable in the code shown below;\n",
        "5. Copy the ``YYYYYYYY`` part of the link and use it to replace the value of the ``MODEL_DATE`` variable in the code shown below.\n",
        "\n",
        "For example, the download link for the model used below is: ``download.tensorflow.org/models/object_detection/tf2/20200711/ssd_resnet101_v1_fpn_640x640_coco17_tpu-8.tar.gz``\n",
        "\n"
      ]
    },
    {
      "cell_type": "code",
      "execution_count": 3,
      "metadata": {
        "collapsed": false
      },
      "outputs": [],
      "source": [
        "import tarfile\n",
        "import urllib.request\n",
        "# Download and extract model\n",
        "# MODEL_DATE = '20200711'\n",
        "# MODEL_NAME = 'ssd_resnet101_v1_fpn_640x640_coco17_tpu-8'\n",
        "\n",
        "MODEL_DATE = '20200711'\n",
        "MODEL_NAME = 'ssd_mobilenet_v2_320x320_coco17_tpu-8'\n",
        "\n",
        "# MODEL_DATE = '20200711'\n",
        "# MODEL_NAME = 'centernet_resnet101_v1_fpn_512x512_coco17_tpu-8'\n",
        "\n",
        "MODEL_TAR_FILENAME = MODEL_NAME + '.tar.gz'\n",
        "MODELS_DOWNLOAD_BASE = 'http://download.tensorflow.org/models/object_detection/tf2/'\n",
        "MODEL_DOWNLOAD_LINK = MODELS_DOWNLOAD_BASE + \\\n",
        "    MODEL_DATE + '/' + MODEL_TAR_FILENAME\n",
        "PATH_TO_MODEL_TAR = os.path.join(MODELS_DIR, MODEL_TAR_FILENAME)\n",
        "PATH_TO_CKPT = os.path.join(\n",
        "    MODELS_DIR, os.path.join(MODEL_NAME, 'checkpoint/'))\n",
        "PATH_TO_CFG = os.path.join(\n",
        "    MODELS_DIR, os.path.join(MODEL_NAME, 'pipeline.config'))\n",
        "\n",
        "if not os.path.exists(PATH_TO_CKPT):\n",
        "    print('Downloading model. This may take a while... ', end='')\n",
        "    urllib.request.urlretrieve(MODEL_DOWNLOAD_LINK, PATH_TO_MODEL_TAR)\n",
        "    tar_file = tarfile.open(PATH_TO_MODEL_TAR)\n",
        "    tar_file.extractall(MODELS_DIR)\n",
        "    tar_file.close()\n",
        "    os.remove(PATH_TO_MODEL_TAR)\n",
        "    print('Done')\n",
        "\n",
        "# Download labels file\n",
        "LABEL_FILENAME = 'mscoco_label_map.pbtxt'\n",
        "LABELS_DOWNLOAD_BASE = \\\n",
        "    'https://raw.githubusercontent.com/tensorflow/models/master/research/object_detection/data/'\n",
        "PATH_TO_LABELS = os.path.join(\n",
        "    MODELS_DIR, os.path.join(MODEL_NAME, LABEL_FILENAME))\n",
        "\n",
        "if not os.path.exists(PATH_TO_LABELS):\n",
        "    print('Downloading label file... ', end='')\n",
        "    urllib.request.urlretrieve(\n",
        "        LABELS_DOWNLOAD_BASE + LABEL_FILENAME, PATH_TO_LABELS)\n",
        "    print('Done')\n"
      ]
    },
    {
      "cell_type": "markdown",
      "metadata": {},
      "source": [
        "## Load the model\n",
        "Next we load the downloaded model\n",
        "\n"
      ]
    },
    {
      "cell_type": "code",
      "execution_count": 4,
      "metadata": {
        "collapsed": false
      },
      "outputs": [],
      "source": [
        "from object_detection.builders import model_builder\n",
        "from object_detection.utils import visualization_utils as viz_utils\n",
        "from object_detection.utils import config_util\n",
        "from object_detection.utils import label_map_util\n",
        "import tensorflow as tf\n",
        "os.environ['TF_CPP_MIN_LOG_LEVEL'] = '2'    # Suppress TensorFlow logging\n",
        "\n",
        "tf.get_logger().setLevel('ERROR')           # Suppress TensorFlow logging (2)\n",
        "\n",
        "# Enable GPU dynamic memory allocation\n",
        "gpus = tf.config.experimental.list_physical_devices('GPU')\n",
        "for gpu in gpus:\n",
        "    tf.config.experimental.set_memory_growth(gpu, True)\n",
        "\n",
        "# Load pipeline config and build a detection model\n",
        "configs = config_util.get_configs_from_pipeline_file(PATH_TO_CFG)\n",
        "model_config = configs['model']\n",
        "detection_model = model_builder.build(\n",
        "    model_config=model_config, is_training=False)\n",
        "\n",
        "# Restore checkpoint\n",
        "ckpt = tf.compat.v2.train.Checkpoint(model=detection_model)\n",
        "ckpt.restore(os.path.join(PATH_TO_CKPT, 'ckpt-0')).expect_partial()\n",
        "\n",
        "# @tf.function\n",
        "# def detect_fn(image):\n",
        "#     \"\"\"Detect objects in image.\"\"\"\n",
        "\n",
        "#     image, shapes = detection_model.preprocess(image)\n",
        "#     prediction_dict = detection_model.predict(image, shapes)\n",
        "#     detections = detection_model.postprocess(prediction_dict, shapes)\n",
        "\n",
        "#     return detections, prediction_dict, tf.reshape(shapes, [-1])\n",
        "\n",
        "\n",
        "# Function perform detection of the object on image in tensor format:\n",
        "def get_model_detection_function(model):\n",
        "    \"\"\"Get a tf.function for detection.\"\"\"\n",
        "\n",
        "    @tf.function\n",
        "    def detect_fn(image):\n",
        "        \"\"\"Detect objects in image.\"\"\"\n",
        "        image, shapes = model.preprocess(image)\n",
        "        prediction_dict = model.predict(image, shapes)\n",
        "        detections = model.postprocess(prediction_dict, shapes)\n",
        "\n",
        "        return detections, prediction_dict, tf.reshape(shapes, [-1])\n",
        "\n",
        "    return detect_fn\n",
        "\n",
        "\n",
        "# Define function which performs detection:\n",
        "detect_fn = get_model_detection_function(detection_model)\n"
      ]
    },
    {
      "cell_type": "markdown",
      "metadata": {},
      "source": [
        "## Load label map data (for plotting)\n",
        "Label maps correspond index numbers to category names, so that when our convolution network\n",
        "predicts `5`, we know that this corresponds to `airplane`.  Here we use internal utility\n",
        "functions, but anything that returns a dictionary mapping integers to appropriate string labels\n",
        "would be fine.\n",
        "\n"
      ]
    },
    {
      "cell_type": "code",
      "execution_count": 5,
      "metadata": {
        "collapsed": false
      },
      "outputs": [],
      "source": [
        "# category_index = label_map_util.create_category_index_from_labelmap(PATH_TO_LABELS,\n",
        "#                                                                     use_display_name=True)\n",
        "label_map = label_map_util.load_labelmap(PATH_TO_LABELS)\n",
        "categories = label_map_util.convert_label_map_to_categories(\n",
        "    label_map,\n",
        "    max_num_classes=label_map_util.get_max_label_map_index(label_map),\n",
        "    use_display_name=True)\n",
        "category_index = label_map_util.create_category_index(categories)\n",
        "label_map_dict = label_map_util.get_label_map_dict(\n",
        "    label_map, use_display_name=True)\n"
      ]
    },
    {
      "cell_type": "markdown",
      "metadata": {},
      "source": [
        "## Define the video stream\n",
        "We will use `OpenCV <https://pypi.org/project/opencv-python/>`_ to capture the video stream\n",
        "generated by our webcam. For more information you can refer to the `OpenCV-Python Tutorials <https://opencv-python-tutroals.readthedocs.io/en/latest/py_tutorials/py_gui/py_video_display/py_video_display.html#capture-video-from-camera>`_\n",
        "\n"
      ]
    },
    {
      "cell_type": "code",
      "execution_count": 6,
      "metadata": {},
      "outputs": [
        {
          "name": "stdout",
          "output_type": "stream",
          "text": [
            "Port 0 for camera ( 720.0 x 1280.0) is present but does not reads.\n",
            "Port 1 is working and reads images (1080.0 x 1920.0)\n",
            "Port 2 is working and reads images (1080.0 x 1920.0)\n"
          ]
        },
        {
          "name": "stderr",
          "output_type": "stream",
          "text": [
            "OpenCV: out device of bound (0-2): 3\n"
          ]
        },
        {
          "name": "stdout",
          "output_type": "stream",
          "text": [
            "Port 3 is not working.\n",
            "Port 4 is not working.\n",
            "Port 5 is not working.\n",
            "Port 6 is not working.\n",
            "Port 7 is not working.\n",
            "Port 8 is not working.\n"
          ]
        },
        {
          "name": "stderr",
          "output_type": "stream",
          "text": [
            "OpenCV: camera failed to properly initialize!\n",
            "OpenCV: out device of bound (0-2): 4\n",
            "OpenCV: camera failed to properly initialize!\n",
            "OpenCV: out device of bound (0-2): 5\n",
            "OpenCV: camera failed to properly initialize!\n",
            "OpenCV: out device of bound (0-2): 6\n",
            "OpenCV: camera failed to properly initialize!\n",
            "OpenCV: out device of bound (0-2): 7\n",
            "OpenCV: camera failed to properly initialize!\n",
            "OpenCV: out device of bound (0-2): 8\n",
            "OpenCV: camera failed to properly initialize!\n"
          ]
        },
        {
          "data": {
            "text/plain": [
              "([0], [1, 2], [3, 4, 5, 6, 7, 8])"
            ]
          },
          "execution_count": 6,
          "metadata": {},
          "output_type": "execute_result"
        }
      ],
      "source": [
        "import cv2\n",
        "\n",
        "\n",
        "def list_ports():\n",
        "    \"\"\"\n",
        "    Test the ports and returns a tuple with the available ports and the ones that are working.\n",
        "    \"\"\"\n",
        "    non_working_ports = []\n",
        "    dev_port = 0\n",
        "    working_ports = []\n",
        "    available_ports = []\n",
        "\n",
        "    # If there are more than 5 non working ports stop the testing.\n",
        "    while len(non_working_ports) < 6:\n",
        "        camera = cv2.VideoCapture(dev_port)\n",
        "        if not camera.isOpened():\n",
        "            non_working_ports.append(dev_port)\n",
        "            print(\"Port %s is not working.\" % dev_port)\n",
        "        else:\n",
        "            is_reading, img = camera.read()\n",
        "            w = camera.get(3)\n",
        "            h = camera.get(4)\n",
        "            if is_reading:\n",
        "                print(\"Port %s is working and reads images (%s x %s)\" %\n",
        "                      (dev_port, h, w))\n",
        "                working_ports.append(dev_port)\n",
        "            else:\n",
        "                print(\"Port %s for camera ( %s x %s) is present but does not reads.\" % (\n",
        "                    dev_port, h, w))\n",
        "                available_ports.append(dev_port)\n",
        "        dev_port += 1\n",
        "    return available_ports, working_ports, non_working_ports\n",
        "\n",
        "\n",
        "list_ports()\n"
      ]
    },
    {
      "cell_type": "code",
      "execution_count": 7,
      "metadata": {
        "collapsed": false
      },
      "outputs": [
        {
          "data": {
            "text/plain": [
              "True"
            ]
          },
          "execution_count": 7,
          "metadata": {},
          "output_type": "execute_result"
        }
      ],
      "source": [
        "import cv2\n",
        "\n",
        "cap = cv2.VideoCapture(2)\n",
        "\n",
        "# Check if camera opened successfully\n",
        "if (cap.isOpened() == False):\n",
        "    print(\"Error opening video stream or file\")\n",
        "\n",
        "# Setting webcam's image width video_capture.set(4,480) #Setting webcam' image height\n",
        "cap.set(3, 640)\n",
        "cap.set(4, 480)  # Setting webcam' image height\n",
        "# # Define the codec and create VideoWriter object\n",
        "# fourcc = cv2.VideoWriter_fourcc(*'XVID')\n",
        "# out = cv2.VideoWriter('./outputff.avi', fourcc, 20.0, (640, 480))\n"
      ]
    },
    {
      "cell_type": "markdown",
      "metadata": {},
      "source": [
        "## Putting everything together\n",
        "The code shown below loads an image, runs it through the detection model and visualizes the\n",
        "detection results, including the keypoints.\n",
        "\n",
        "Note that this will take a long time (several minutes) the first time you run this code due to\n",
        "tf.function's trace-compilation --- on subsequent runs (e.g. on new images), things will be\n",
        "faster.\n",
        "\n",
        "Here are some simple things to try out if you are curious:\n",
        "\n",
        "* Modify some of the input images and see if detection still works. Some simple things to try out here (just uncomment the relevant portions of code) include flipping the image horizontally, or converting to grayscale (note that we still expect the input image to have 3 channels).\n",
        "* Print out `detections['detection_boxes']` and try to match the box locations to the boxes in the image.  Notice that coordinates are given in normalized form (i.e., in the interval [0, 1]).\n",
        "* Set ``min_score_thresh`` to other values (between 0 and 1) to allow more detections in or to filter out more detections.\n",
        "\n"
      ]
    },
    {
      "cell_type": "code",
      "execution_count": 8,
      "metadata": {},
      "outputs": [],
      "source": [
        "from PIL import Image, ImageDraw, ImageFont\n",
        "from six import BytesIO\n",
        "\n",
        "\n",
        "def load_image_into_numpy_array(path):\n",
        "    \"\"\"Load an image from file into a numpy array.\n",
        "\n",
        "    Puts image into numpy array to feed into tensorflow graph.\n",
        "    Note that by convention we put it into a numpy array with shape\n",
        "    (height, width, channels), where channels=3 for RGB.\n",
        "\n",
        "    Args:\n",
        "      path: the file path to the image\n",
        "\n",
        "    Returns:\n",
        "      uint8 numpy array with shape (img_height, img_width, 3)\n",
        "    \"\"\"\n",
        "    img_data = tf.io.gfile.GFile(path, 'rb').read()\n",
        "    image = Image.open(BytesIO(img_data))\n",
        "    (im_width, im_height) = image.size\n",
        "    return np.array(image.getdata()).reshape(\n",
        "        (im_height, im_width, 3)).astype(np.uint8)\n",
        "\n",
        "\n",
        "def get_keypoint_tuples(eval_config):\n",
        "    \"\"\"Return a tuple list of keypoint edges from the eval config.\n",
        "\n",
        "    Args:\n",
        "      eval_config: an eval config containing the keypoint edges\n",
        "\n",
        "    Returns:\n",
        "      a list of edge tuples, each in the format (start, end)\n",
        "    \"\"\"\n",
        "    tuple_list = []\n",
        "    kp_list = eval_config.keypoint_edge\n",
        "    for edge in kp_list:\n",
        "        tuple_list.append((edge.start, edge.end))\n",
        "    return tuple_list\n"
      ]
    },
    {
      "cell_type": "code",
      "execution_count": 9,
      "metadata": {
        "collapsed": false
      },
      "outputs": [],
      "source": [
        "import numpy as np\n",
        "\n",
        "while True:\n",
        "    # ret is a boolean variable that returns true if the frame is available.\n",
        "    # frame is an image array vector captured based on the default frames per second defined explicitly or implicitly\n",
        "    # Read frame from camera\n",
        "    ret, image_np = cap.read()\n",
        "    # image_np = load_image_into_numpy_array(image_np)\n",
        "\n",
        "    # Expand dimensions since the model expects images to have shape: [1, None, None, 3]\n",
        "    image_np_expanded = np.expand_dims(image_np, axis=0)\n",
        "\n",
        "    # Things to try:\n",
        "    # Flip horizontally\n",
        "    # image_np = np.fliplr(image_np).copy()\n",
        "\n",
        "    # Convert image to grayscale\n",
        "    # image_np = np.tile(\n",
        "    #     np.mean(image_np, 2, keepdims=True), (1, 1, 3)).astype(np.uint8)\n",
        "\n",
        "    input_tensor = tf.convert_to_tensor(\n",
        "        np.expand_dims(image_np, 0), dtype=tf.float32)\n",
        "    detections, predictions_dict, shapes = detect_fn(input_tensor)\n",
        "\n",
        "    label_id_offset = 1\n",
        "    image_np_with_detections = image_np.copy()\n",
        "\n",
        "    viz_utils.visualize_boxes_and_labels_on_image_array(\n",
        "        image_np_with_detections,\n",
        "        detections['detection_boxes'][0].numpy(),\n",
        "        (detections['detection_classes']\n",
        "         [0].numpy() + label_id_offset).astype(int),\n",
        "        detections['detection_scores'][0].numpy(),\n",
        "        category_index,\n",
        "        use_normalized_coordinates=True,\n",
        "        max_boxes_to_draw=200,\n",
        "        min_score_thresh=.30,\n",
        "        agnostic_mode=False)\n",
        "\n",
        "    # Display output\n",
        "    cv2.imshow('Real Time Camera Object Detection using TensorFlow Object Detection API', cv2.resize(\n",
        "        image_np_with_detections, (800, 600)))\n",
        "\n",
        "    # https://stackoverflow.com/questions/35003476/opencv-python-how-to-detect-if-a-window-is-closed/37881722#37881722\n",
        "    if cv2.waitKey(25) & 0xFF == ord('q'):\n",
        "        break\n",
        "\n",
        "cap.release()\n",
        "cv2.destroyAllWindows()\n"
      ]
    }
  ],
  "metadata": {
    "kernelspec": {
      "display_name": "Python 3",
      "language": "python",
      "name": "python3"
    },
    "language_info": {
      "codemirror_mode": {
        "name": "ipython",
        "version": 3
      },
      "file_extension": ".py",
      "mimetype": "text/x-python",
      "name": "python",
      "nbconvert_exporter": "python",
      "pygments_lexer": "ipython3",
      "version": "3.9.9"
    }
  },
  "nbformat": 4,
  "nbformat_minor": 0
}
